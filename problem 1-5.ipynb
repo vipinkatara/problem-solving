{
 "cells": [
  {
   "cell_type": "markdown",
   "metadata": {},
   "source": [
    "# Problem-1"
   ]
  },
  {
   "cell_type": "markdown",
   "metadata": {},
   "source": [
    "Given a list of numbers and a number k, return whether any two numbers from the list add up to k.\n",
    "\n",
    "For example, given [10, 15, 3, 7] and k of 17, return true since 10 + 7 is 17."
   ]
  },
  {
   "cell_type": "code",
   "execution_count": 4,
   "metadata": {},
   "outputs": [
    {
     "name": "stdout",
     "output_type": "stream",
     "text": [
      "enter a list\n",
      "10 12 15 26 12 342 342 54 23 54 321\n",
      "enter k\n",
      "25\n",
      "True\n"
     ]
    }
   ],
   "source": [
    "#Naive approach/Brute force approch\n",
    "\n",
    "print(\"enter a list\")\n",
    "lis = list(map(int,input().split()))\n",
    "\n",
    "print(\"enter k\")\n",
    "k = int(input())\n",
    "\n",
    "def func(lis,k):\n",
    "    for i in range(0,len(lis)):\n",
    "        for j in range(0,len(lis)):\n",
    "            if(i == j):\n",
    "                pass\n",
    "            if(lis[i]+lis[j] == k):\n",
    "                return True\n",
    "    return False\n",
    "            \n",
    "print(func(lis,k))"
   ]
  },
  {
   "cell_type": "markdown",
   "metadata": {},
   "source": [
    "Big O compllexity - O(n^2)"
   ]
  },
  {
   "cell_type": "code",
   "execution_count": 6,
   "metadata": {},
   "outputs": [
    {
     "name": "stdout",
     "output_type": "stream",
     "text": [
      "enter a list\n",
      "10 15 3 7\n",
      "enter k\n",
      "17\n",
      "True\n"
     ]
    }
   ],
   "source": [
    "#optimized approach\n",
    "print(\"enter a list\")\n",
    "lis = list(map(int,input().split()))\n",
    "\n",
    "print(\"enter k\")\n",
    "k = int(input())\n",
    "\n",
    "def func(lis,k):\n",
    "    for i in range(0,len(lis)):\n",
    "       \n",
    "        for j in range(i+1,len(lis)):\n",
    "            \n",
    "            if(lis[i]+lis[j] == k):\n",
    "                return True\n",
    "            \n",
    "    return False\n",
    "            \n",
    "print(func(lis,k))"
   ]
  },
  {
   "cell_type": "markdown",
   "metadata": {},
   "source": [
    "Big O complexity - O(n^2)"
   ]
  },
  {
   "cell_type": "code",
   "execution_count": 9,
   "metadata": {},
   "outputs": [
    {
     "name": "stdout",
     "output_type": "stream",
     "text": [
      "enter a list\n",
      "10 15 3 7\n",
      "enter k\n",
      "17\n",
      "True\n"
     ]
    }
   ],
   "source": [
    "#more optimization\n",
    "print(\"enter a list\")\n",
    "lis = list(map(int,input().split()))\n",
    "\n",
    "print(\"enter k\")\n",
    "k = int(input())\n",
    "\n",
    "def func(lis,k):\n",
    "    #sort the list\n",
    "    lis.sort()\n",
    "    for i in range(0,len(lis)):\n",
    "        for j in range(0,len(lis)):\n",
    "            if(lis[i] + lis[j] > k):\n",
    "                continue\n",
    "            if(lis[i] + lis[j] == k):\n",
    "                return True\n",
    "            \n",
    "    \n",
    "            \n",
    "print(func(lis,k))"
   ]
  },
  {
   "cell_type": "markdown",
   "metadata": {},
   "source": [
    "Big O complexity - O(n^2)"
   ]
  },
  {
   "cell_type": "code",
   "execution_count": 14,
   "metadata": {},
   "outputs": [
    {
     "name": "stdout",
     "output_type": "stream",
     "text": [
      "enter a list\n",
      "10 15 3 7\n",
      "enter k\n",
      "17\n",
      "True\n"
     ]
    }
   ],
   "source": [
    "#some more optimization\n",
    "print(\"enter a list\")\n",
    "lis = list(map(int,input().split()))\n",
    "\n",
    "print(\"enter k\")\n",
    "k = int(input())\n",
    "\n",
    "def func(lis,k1):\n",
    "    size = len(lis)\n",
    "    #sort the list\n",
    "    lis.sort()\n",
    "    \n",
    "    for i in range(0,size):\n",
    "        beg = i + 1\n",
    "        end = size-1\n",
    "        mid = int((beg+end)/2)\n",
    "        k = k1 - lis[i]\n",
    "        while(beg <= end):\n",
    "            if(lis[mid] > k):\n",
    "                mid = mid+1\n",
    "            elif(lis[mid] < k):\n",
    "                end = mid-1\n",
    "            else:\n",
    "                return True\n",
    "            mid = int((beg+end)/2)\n",
    "    return False\n",
    "    \n",
    "            \n",
    "print(func(lis,k))\n"
   ]
  },
  {
   "cell_type": "markdown",
   "metadata": {},
   "source": [
    "big O complexity - O(n lg(n))"
   ]
  },
  {
   "cell_type": "code",
   "execution_count": 18,
   "metadata": {},
   "outputs": [
    {
     "name": "stdout",
     "output_type": "stream",
     "text": [
      "enter a list\n",
      "10 15 3 7\n",
      "enter k\n",
      "17\n",
      "True\n"
     ]
    }
   ],
   "source": [
    "#trying more optimization\n",
    "print(\"enter a list\")\n",
    "lis = list(map(int,input().split()))\n",
    "\n",
    "print(\"enter k\")\n",
    "k = int(input())\n",
    "\n",
    "def func(lis,k):\n",
    "    lis = set(lis)\n",
    "    #set lookup is O(1)\n",
    "    for val in lis:\n",
    "        k1 = k - val\n",
    "        if k1 in lis:\n",
    "            return True\n",
    "    \n",
    "    return False\n",
    "\n",
    "print(func(lis,k))"
   ]
  },
  {
   "cell_type": "code",
   "execution_count": null,
   "metadata": {},
   "outputs": [],
   "source": [
    "Big O complexity - O(n)"
   ]
  },
  {
   "cell_type": "markdown",
   "metadata": {},
   "source": [
    "# Problem - 2"
   ]
  },
  {
   "cell_type": "markdown",
   "metadata": {},
   "source": [
    "Given an array of integers, return a new array such that each element at index i of the new array is the product of all the numbers in the original array except the one at i.\n",
    "\n",
    "For example, if our input was [1, 2, 3, 4, 5], the expected output would be [120, 60, 40, 30, 24]. If our input was [3, 2, 1], the expected output would be [2, 3, 6].\n",
    "\n",
    "Follow-up: what if you can't use division?"
   ]
  },
  {
   "cell_type": "code",
   "execution_count": 8,
   "metadata": {},
   "outputs": [
    {
     "name": "stdout",
     "output_type": "stream",
     "text": [
      "[120, 60, 40, 30, 24]\n"
     ]
    }
   ],
   "source": [
    "#with division\n",
    "inp = [1,2,3,4,5]\n",
    "\n",
    "def pro(inp):\n",
    "    size = len(inp)\n",
    "    prod = 1\n",
    "    for val in inp:\n",
    "        prod *= val\n",
    "    out = [int(prod)]*size\n",
    "    for i in range(size):\n",
    "        out[i] = int(out[i]/inp[i])\n",
    "    return out\n",
    "\n",
    "print(pro(inp))"
   ]
  },
  {
   "cell_type": "markdown",
   "metadata": {},
   "source": [
    "Big O complexity - O(n)"
   ]
  },
  {
   "cell_type": "code",
   "execution_count": 4,
   "metadata": {},
   "outputs": [
    {
     "name": "stdout",
     "output_type": "stream",
     "text": [
      "[120, 60, 40, 30, 24]\n"
     ]
    }
   ],
   "source": [
    "#without division\n",
    "inp = [1,2,3,4,5]\n",
    "out = []\n",
    "def pro(inp):\n",
    "    size = len(inp)\n",
    "    for i in range(size):\n",
    "        pro = 1\n",
    "        for j in range(size):\n",
    "            if(i==j):\n",
    "                continue\n",
    "            pro *= inp[j]\n",
    "        out.append(pro)\n",
    "        \n",
    "    return out\n",
    "print(pro(inp))"
   ]
  },
  {
   "cell_type": "markdown",
   "metadata": {},
   "source": [
    "Big O complexity - O(n^2)"
   ]
  },
  {
   "cell_type": "code",
   "execution_count": 9,
   "metadata": {},
   "outputs": [
    {
     "name": "stdout",
     "output_type": "stream",
     "text": [
      "[120, 60, 40, 30, 24]\n"
     ]
    }
   ],
   "source": [
    "#Another approach without division\n",
    "inp = [1,2,3,4,5]\n",
    "out = []\n",
    "def pro(inp):\n",
    "    size = len(inp)\n",
    "    out = [1]*size\n",
    "    temp = 1\n",
    "\n",
    "    for i in range(size):\n",
    "        out[i] = temp\n",
    "        temp *= inp[i]\n",
    "    temp=1\n",
    "    for i in range(size-1,-1,-1):\n",
    "        out[i] *= temp\n",
    "        temp *= inp[i]\n",
    "    return out\n",
    "print(pro(inp))"
   ]
  },
  {
   "cell_type": "markdown",
   "metadata": {},
   "source": [
    "Big O complexity - O(n) -time"
   ]
  },
  {
   "cell_type": "markdown",
   "metadata": {},
   "source": [
    "# Problem - 3"
   ]
  },
  {
   "cell_type": "markdown",
   "metadata": {},
   "source": [
    "Given the root to a binary tree, implement serialize(root), which serializes the tree into a string, and deserialize(s), which deserializes the string back into the tree.\n",
    "\n",
    "For example, given the following Node class\n",
    "\n",
    "class Node:\n",
    "\n",
    "    def __init__(self, val, left=None, right=None):\n",
    "        self.val = val\n",
    "        self.left = left\n",
    "        self.right = right\n",
    "        \n",
    "\n",
    "The following test should pass:\n",
    "\n",
    "node = Node('root', Node('left', Node('left.left')), Node('right'))\n",
    "assert deserialize(serialize(node)).left.left.val == 'left.left'\n"
   ]
  },
  {
   "cell_type": "code",
   "execution_count": 43,
   "metadata": {},
   "outputs": [
    {
     "name": "stdout",
     "output_type": "stream",
     "text": [
      "Serialize =  abcdefg\n",
      "____________________________________________________________________________________\n",
      "a\n",
      "b\n",
      "d\n",
      "e\n",
      "c\n",
      "f\n",
      "g\n",
      "____________________________________________________________________________________\n",
      "a\n",
      "b\n",
      "d\n",
      "e\n",
      "c\n",
      "f\n",
      "g\n"
     ]
    },
    {
     "ename": "AssertionError",
     "evalue": "",
     "output_type": "error",
     "traceback": [
      "\u001b[0;31m---------------------------------------------------------------------------\u001b[0m",
      "\u001b[0;31mAssertionError\u001b[0m                            Traceback (most recent call last)",
      "\u001b[0;32m<ipython-input-43-d7995bb404ad>\u001b[0m in \u001b[0;36m<module>\u001b[0;34m\u001b[0m\n\u001b[1;32m     69\u001b[0m \u001b[0;34m\u001b[0m\u001b[0m\n\u001b[1;32m     70\u001b[0m \u001b[0mnode\u001b[0m \u001b[0;34m=\u001b[0m \u001b[0mNode\u001b[0m\u001b[0;34m(\u001b[0m\u001b[0;34m'root'\u001b[0m\u001b[0;34m,\u001b[0m \u001b[0mNode\u001b[0m\u001b[0;34m(\u001b[0m\u001b[0;34m'left'\u001b[0m\u001b[0;34m,\u001b[0m \u001b[0mNode\u001b[0m\u001b[0;34m(\u001b[0m\u001b[0;34m'left.left'\u001b[0m\u001b[0;34m)\u001b[0m\u001b[0;34m)\u001b[0m\u001b[0;34m,\u001b[0m \u001b[0mNode\u001b[0m\u001b[0;34m(\u001b[0m\u001b[0;34m'right'\u001b[0m\u001b[0;34m)\u001b[0m\u001b[0;34m)\u001b[0m\u001b[0;34m\u001b[0m\u001b[0;34m\u001b[0m\u001b[0m\n\u001b[0;32m---> 71\u001b[0;31m \u001b[0;32massert\u001b[0m \u001b[0mdeserialize\u001b[0m\u001b[0;34m(\u001b[0m\u001b[0mserialize\u001b[0m\u001b[0;34m(\u001b[0m\u001b[0mnode\u001b[0m\u001b[0;34m)\u001b[0m\u001b[0;34m)\u001b[0m\u001b[0;34m.\u001b[0m\u001b[0mleft\u001b[0m\u001b[0;34m.\u001b[0m\u001b[0mleft\u001b[0m\u001b[0;34m.\u001b[0m\u001b[0mval\u001b[0m \u001b[0;34m==\u001b[0m \u001b[0;34m'left.left'\u001b[0m\u001b[0;34m\u001b[0m\u001b[0;34m\u001b[0m\u001b[0m\n\u001b[0m",
      "\u001b[0;31mAssertionError\u001b[0m: "
     ]
    }
   ],
   "source": [
    "#method 1 - wrong method\n",
    "from queue import Queue\n",
    "class Node:\n",
    "    def __init__(self,val,left=None,right=None):\n",
    "        self.val = val\n",
    "        self.left = left\n",
    "        self.right = right\n",
    "\n",
    "\n",
    "def serialize(root):\n",
    "    if root is None:\n",
    "        return None\n",
    "    q = Queue()\n",
    "    str1 = ''\n",
    "    string = []\n",
    "    q.put(root)\n",
    "    while q.qsize():\n",
    "        \n",
    "        temp1 = q.get_nowait()\n",
    "        string.append(temp1.val)\n",
    "        if(temp1.left is not None):\n",
    "            q.put(temp1.left)\n",
    "        if(temp1.right is not None):\n",
    "            q.put(temp1.right)\n",
    "            \n",
    "    str1 = str1.join(string)\n",
    "    return str1\n",
    "    \n",
    "def deserialize(str1):\n",
    "    root = Node(str1[0])\n",
    "    q = []\n",
    "    q.append(root)\n",
    "    for i in range(1,len(str1)):\n",
    "        temp = q[0]\n",
    "        \n",
    "        if(temp is None):\n",
    "            temp = Node(str1[i])\n",
    "        \n",
    "        elif(temp.left is None):\n",
    "            temp.left = Node(str1[i])\n",
    "            q.append(temp.left)\n",
    "            \n",
    "        elif(temp.right is None):\n",
    "            temp.right = Node(str1[i])\n",
    "            q.append(temp.right)\n",
    "            q.pop(0)\n",
    "    return root\n",
    "def preorder(root):\n",
    "    if root is None:\n",
    "        return\n",
    "    print(root.val)\n",
    "    preorder(root.left)\n",
    "    preorder(root.right)\n",
    "    \n",
    "        \n",
    "            \n",
    "root = Node('a')\n",
    "root.left = Node('b')\n",
    "root.right = Node('c')\n",
    "root.left.left = Node('d')\n",
    "root.left.right = Node('e')\n",
    "root.right.left = Node('f')\n",
    "root.right.right = Node('g')\n",
    "print('Serialize = ',serialize(root))\n",
    "root1 = deserialize('abcdefg')\n",
    "print(\"____________________________________________________________________________________\")\n",
    "preorder(root)\n",
    "print(\"____________________________________________________________________________________\")\n",
    "preorder(root1)\n",
    "\n",
    "node = Node('root', Node('left', Node('left.left')), Node('right'))\n",
    "assert deserialize(serialize(node)).left.left.val == 'left.left'"
   ]
  },
  {
   "cell_type": "code",
   "execution_count": 45,
   "metadata": {},
   "outputs": [
    {
     "name": "stdout",
     "output_type": "stream",
     "text": [
      "a\n",
      "b\n",
      "d\n",
      "e\n",
      "c\n",
      "f\n",
      "g\n"
     ]
    }
   ],
   "source": [
    "#method 2 \n",
    "\n",
    "from queue import Queue\n",
    "class Node:\n",
    "    def __init__(self,val,left=None,right=None):\n",
    "        self.val = val\n",
    "        self.left = left\n",
    "        self.right = right\n",
    "\n",
    "\n",
    "def serialize1(root):\n",
    "    global arr\n",
    "    if root is None:\n",
    "        arr.append('?')\n",
    "        return \n",
    "    arr.append(root.val)\n",
    "    serialize(root.left)\n",
    "    serialize(root.right)\n",
    "    \n",
    "def serialize(root):\n",
    "    serialize1(root)\n",
    "    return arr\n",
    "    \n",
    "def deserialize(str1):\n",
    "    global index\n",
    "    if(index == len(arr) or str1[index] == '?'):\n",
    "        index += 1\n",
    "        return None\n",
    "    \n",
    "    root = Node(str1[index])\n",
    "    index += 1\n",
    "    root.left = deserialize(str1)\n",
    "    root.right = deserialize(str1)\n",
    "     \n",
    "    return root\n",
    "\n",
    "\n",
    "def preorder(root):\n",
    "    if root is None:\n",
    "        return\n",
    "    print(root.val)\n",
    "    preorder(root.left)\n",
    "    preorder(root.right)\n",
    "    \n",
    "        \n",
    "            \n",
    "root = Node('a')\n",
    "root.left = Node('b')\n",
    "root.right = Node('c')\n",
    "root.left.left = Node('d')\n",
    "root.left.right = Node('e')\n",
    "root.right.left = Node('f')\n",
    "root.right.right = Node('g')\n",
    "index = 0\n",
    "arr = []\n",
    "\n",
    "arr1 = serialize(root)\n",
    "root1 = deserialize(arr)\n",
    "preorder(root1)\n",
    "\n",
    "node = Node('root', Node('left', Node('left.left')), Node('right'))\n",
    "assert deserialize(serialize(node)).left.left.val == 'left.left'"
   ]
  },
  {
   "cell_type": "code",
   "execution_count": null,
   "metadata": {},
   "outputs": [],
   "source": []
  }
 ],
 "metadata": {
  "kernelspec": {
   "display_name": "Python 3",
   "language": "python",
   "name": "python3"
  },
  "language_info": {
   "codemirror_mode": {
    "name": "ipython",
    "version": 3
   },
   "file_extension": ".py",
   "mimetype": "text/x-python",
   "name": "python",
   "nbconvert_exporter": "python",
   "pygments_lexer": "ipython3",
   "version": "3.8.2"
  }
 },
 "nbformat": 4,
 "nbformat_minor": 4
}
