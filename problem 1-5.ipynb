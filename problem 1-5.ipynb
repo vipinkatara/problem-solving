{
 "cells": [
  {
   "cell_type": "markdown",
   "metadata": {},
   "source": [
    "# Problem-1"
   ]
  },
  {
   "cell_type": "markdown",
   "metadata": {},
   "source": [
    "Given a list of numbers and a number k, return whether any two numbers from the list add up to k.\n",
    "\n",
    "For example, given [10, 15, 3, 7] and k of 17, return true since 10 + 7 is 17."
   ]
  },
  {
   "cell_type": "code",
   "execution_count": 4,
   "metadata": {},
   "outputs": [
    {
     "name": "stdout",
     "output_type": "stream",
     "text": [
      "enter a list\n",
      "10 12 15 26 12 342 342 54 23 54 321\n",
      "enter k\n",
      "25\n",
      "True\n"
     ]
    }
   ],
   "source": [
    "#Naive approach/Brute force approch\n",
    "\n",
    "print(\"enter a list\")\n",
    "lis = list(map(int,input().split()))\n",
    "\n",
    "print(\"enter k\")\n",
    "k = int(input())\n",
    "\n",
    "def func(lis,k):\n",
    "    for i in range(0,len(lis)):\n",
    "        for j in range(0,len(lis)):\n",
    "            if(i == j):\n",
    "                pass\n",
    "            if(lis[i]+lis[j] == k):\n",
    "                return True\n",
    "    return False\n",
    "            \n",
    "print(func(lis,k))"
   ]
  },
  {
   "cell_type": "markdown",
   "metadata": {},
   "source": [
    "Big O compllexity - O(n^2)"
   ]
  },
  {
   "cell_type": "code",
   "execution_count": 6,
   "metadata": {},
   "outputs": [
    {
     "name": "stdout",
     "output_type": "stream",
     "text": [
      "enter a list\n",
      "10 15 3 7\n",
      "enter k\n",
      "17\n",
      "True\n"
     ]
    }
   ],
   "source": [
    "#optimized approach\n",
    "print(\"enter a list\")\n",
    "lis = list(map(int,input().split()))\n",
    "\n",
    "print(\"enter k\")\n",
    "k = int(input())\n",
    "\n",
    "def func(lis,k):\n",
    "    for i in range(0,len(lis)):\n",
    "       \n",
    "        for j in range(i+1,len(lis)):\n",
    "            \n",
    "            if(lis[i]+lis[j] == k):\n",
    "                return True\n",
    "            \n",
    "    return False\n",
    "            \n",
    "print(func(lis,k))"
   ]
  },
  {
   "cell_type": "markdown",
   "metadata": {},
   "source": [
    "Big O complexity - O(n^2)"
   ]
  },
  {
   "cell_type": "code",
   "execution_count": 9,
   "metadata": {},
   "outputs": [
    {
     "name": "stdout",
     "output_type": "stream",
     "text": [
      "enter a list\n",
      "10 15 3 7\n",
      "enter k\n",
      "17\n",
      "True\n"
     ]
    }
   ],
   "source": [
    "#more optimization\n",
    "print(\"enter a list\")\n",
    "lis = list(map(int,input().split()))\n",
    "\n",
    "print(\"enter k\")\n",
    "k = int(input())\n",
    "\n",
    "def func(lis,k):\n",
    "    #sort the list\n",
    "    lis.sort()\n",
    "    for i in range(0,len(lis)):\n",
    "        for j in range(0,len(lis)):\n",
    "            if(lis[i] + lis[j] > k):\n",
    "                continue\n",
    "            if(lis[i] + lis[j] == k):\n",
    "                return True\n",
    "            \n",
    "    \n",
    "            \n",
    "print(func(lis,k))"
   ]
  },
  {
   "cell_type": "markdown",
   "metadata": {},
   "source": [
    "Big O complexity - O(n^2)"
   ]
  },
  {
   "cell_type": "code",
   "execution_count": 14,
   "metadata": {},
   "outputs": [
    {
     "name": "stdout",
     "output_type": "stream",
     "text": [
      "enter a list\n",
      "10 15 3 7\n",
      "enter k\n",
      "17\n",
      "True\n"
     ]
    }
   ],
   "source": [
    "#some more optimization\n",
    "print(\"enter a list\")\n",
    "lis = list(map(int,input().split()))\n",
    "\n",
    "print(\"enter k\")\n",
    "k = int(input())\n",
    "\n",
    "def func(lis,k1):\n",
    "    size = len(lis)\n",
    "    #sort the list\n",
    "    lis.sort()\n",
    "    \n",
    "    for i in range(0,size):\n",
    "        beg = i + 1\n",
    "        end = size-1\n",
    "        mid = int((beg+end)/2)\n",
    "        k = k1 - lis[i]\n",
    "        while(beg <= end):\n",
    "            if(lis[mid] > k):\n",
    "                mid = mid+1\n",
    "            elif(lis[mid] < k):\n",
    "                end = mid-1\n",
    "            else:\n",
    "                return True\n",
    "            mid = int((beg+end)/2)\n",
    "    return False\n",
    "    \n",
    "            \n",
    "print(func(lis,k))\n"
   ]
  },
  {
   "cell_type": "markdown",
   "metadata": {},
   "source": [
    "big O complexity - O(n lg(n))"
   ]
  },
  {
   "cell_type": "code",
   "execution_count": 18,
   "metadata": {},
   "outputs": [
    {
     "name": "stdout",
     "output_type": "stream",
     "text": [
      "enter a list\n",
      "10 15 3 7\n",
      "enter k\n",
      "17\n",
      "True\n"
     ]
    }
   ],
   "source": [
    "#trying more optimization\n",
    "print(\"enter a list\")\n",
    "lis = list(map(int,input().split()))\n",
    "\n",
    "print(\"enter k\")\n",
    "k = int(input())\n",
    "\n",
    "def func(lis,k):\n",
    "    lis = set(lis)\n",
    "    #set lookup is O(1)\n",
    "    for val in lis:\n",
    "        k1 = k - val\n",
    "        if k1 in lis:\n",
    "            return True\n",
    "    \n",
    "    return False\n",
    "\n",
    "print(func(lis,k))"
   ]
  },
  {
   "cell_type": "code",
   "execution_count": null,
   "metadata": {},
   "outputs": [],
   "source": [
    "Big O complexity - O(n)"
   ]
  },
  {
   "cell_type": "markdown",
   "metadata": {},
   "source": [
    "# Problem - 2"
   ]
  },
  {
   "cell_type": "markdown",
   "metadata": {},
   "source": [
    "Given an array of integers, return a new array such that each element at index i of the new array is the product of all the numbers in the original array except the one at i.\n",
    "\n",
    "For example, if our input was [1, 2, 3, 4, 5], the expected output would be [120, 60, 40, 30, 24]. If our input was [3, 2, 1], the expected output would be [2, 3, 6].\n",
    "\n",
    "Follow-up: what if you can't use division?"
   ]
  },
  {
   "cell_type": "code",
   "execution_count": 8,
   "metadata": {},
   "outputs": [
    {
     "name": "stdout",
     "output_type": "stream",
     "text": [
      "[120, 60, 40, 30, 24]\n"
     ]
    }
   ],
   "source": [
    "#with division\n",
    "inp = [1,2,3,4,5]\n",
    "\n",
    "def pro(inp):\n",
    "    size = len(inp)\n",
    "    prod = 1\n",
    "    for val in inp:\n",
    "        prod *= val\n",
    "    out = [int(prod)]*size\n",
    "    for i in range(size):\n",
    "        out[i] = int(out[i]/inp[i])\n",
    "    return out\n",
    "\n",
    "print(pro(inp))"
   ]
  },
  {
   "cell_type": "markdown",
   "metadata": {},
   "source": [
    "Big O complexity - O(n)"
   ]
  },
  {
   "cell_type": "code",
   "execution_count": 4,
   "metadata": {},
   "outputs": [
    {
     "name": "stdout",
     "output_type": "stream",
     "text": [
      "[120, 60, 40, 30, 24]\n"
     ]
    }
   ],
   "source": [
    "#without division\n",
    "inp = [1,2,3,4,5]\n",
    "out = []\n",
    "def pro(inp):\n",
    "    size = len(inp)\n",
    "    for i in range(size):\n",
    "        pro = 1\n",
    "        for j in range(size):\n",
    "            if(i==j):\n",
    "                continue\n",
    "            pro *= inp[j]\n",
    "        out.append(pro)\n",
    "        \n",
    "    return out\n",
    "print(pro(inp))"
   ]
  },
  {
   "cell_type": "markdown",
   "metadata": {},
   "source": [
    "Big O complexity - O(n^2)"
   ]
  },
  {
   "cell_type": "code",
   "execution_count": null,
   "metadata": {},
   "outputs": [],
   "source": []
  }
 ],
 "metadata": {
  "kernelspec": {
   "display_name": "Python 3",
   "language": "python",
   "name": "python3"
  },
  "language_info": {
   "codemirror_mode": {
    "name": "ipython",
    "version": 3
   },
   "file_extension": ".py",
   "mimetype": "text/x-python",
   "name": "python",
   "nbconvert_exporter": "python",
   "pygments_lexer": "ipython3",
   "version": "3.8.2"
  }
 },
 "nbformat": 4,
 "nbformat_minor": 4
}
